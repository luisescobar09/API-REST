{
  "nbformat": 4,
  "nbformat_minor": 0,
  "metadata": {
    "colab": {
      "name": "SQLAlchemy.ipynb",
      "provenance": [],
      "authorship_tag": "ABX9TyM5gqGG5LR7Wd5dHvjY49hm",
      "include_colab_link": true
    },
    "kernelspec": {
      "name": "python3",
      "display_name": "Python 3"
    },
    "language_info": {
      "name": "python"
    }
  },
  "cells": [
    {
      "cell_type": "markdown",
      "metadata": {
        "id": "view-in-github",
        "colab_type": "text"
      },
      "source": [
        "<a href=\"https://colab.research.google.com/github/luisescobar09/API-REST/blob/main/SQLAlchemy.ipynb\" target=\"_parent\"><img src=\"https://colab.research.google.com/assets/colab-badge.svg\" alt=\"Open In Colab\"/></a>"
      ]
    },
    {
      "cell_type": "code",
      "execution_count": 1,
      "metadata": {
        "id": "YWB1oOXAkTzL"
      },
      "outputs": [],
      "source": [
        "from sqlalchemy import create_engine, MetaData, Table, Column, Integer, String, insert, select, update, delete"
      ]
    },
    {
      "cell_type": "code",
      "source": [
        "engine = create_engine('sqlite:///prueba.sqlite')"
      ],
      "metadata": {
        "id": "Mk2B47yalPeD"
      },
      "execution_count": 2,
      "outputs": []
    },
    {
      "cell_type": "code",
      "source": [
        "metadata = MetaData()"
      ],
      "metadata": {
        "id": "x6P26j_ElXGC"
      },
      "execution_count": 3,
      "outputs": []
    },
    {
      "cell_type": "code",
      "source": [
        "clientes = Table(\n",
        "  'clientes', metadata,\n",
        "  Column( 'id_cliente', Integer, primary_key = True),\n",
        "  Column( 'nombre', String, nullable = False ),\n",
        "  Column( 'email', String, nullable = False )\n",
        ")"
      ],
      "metadata": {
        "id": "M9-L8aGMlc1g"
      },
      "execution_count": 4,
      "outputs": []
    },
    {
      "cell_type": "code",
      "source": [
        "metadata.create_all(engine)"
      ],
      "metadata": {
        "id": "HYNTQbDTnVHq"
      },
      "execution_count": 5,
      "outputs": []
    },
    {
      "cell_type": "code",
      "source": [
        "stmt = insert(clientes).values(nombre=\"Cliente 1\", email=\"cliente1@email.com\")\n",
        "print(type(stmt), stmt)"
      ],
      "metadata": {
        "colab": {
          "base_uri": "https://localhost:8080/"
        },
        "id": "-hlBGr6TnjtZ",
        "outputId": "5d230fc4-d26d-423d-af62-255f002e2406"
      },
      "execution_count": 6,
      "outputs": [
        {
          "output_type": "stream",
          "name": "stdout",
          "text": [
            "<class 'sqlalchemy.sql.dml.Insert'> INSERT INTO clientes (nombre, email) VALUES (:nombre, :email)\n"
          ]
        }
      ]
    },
    {
      "cell_type": "code",
      "source": [
        "with engine.connect() as connection:\n",
        "  result = connection.execute(stmt)"
      ],
      "metadata": {
        "id": "wzf6x87un60j"
      },
      "execution_count": 7,
      "outputs": []
    },
    {
      "cell_type": "code",
      "source": [
        "data = [\n",
        "    { \"nombre\" : \"Cliente 2\", \"email\" : \"cliente2@email.com\" },\n",
        "    { \"nombre\" : \"Cliente 3\", \"email\" : \"cliente3@email.com\" },\n",
        "    { \"nombre\" : \"Cliente 4\", \"email\" : \"cliente4@email.com\" }\n",
        "]\n",
        "stmt = insert(clientes).values(data)\n",
        "print(type(stmt), stmt)"
      ],
      "metadata": {
        "colab": {
          "base_uri": "https://localhost:8080/"
        },
        "id": "Jlx6w7hUoMX1",
        "outputId": "2ac54d2b-2321-498f-b007-8ddd3c580751"
      },
      "execution_count": 8,
      "outputs": [
        {
          "output_type": "stream",
          "name": "stdout",
          "text": [
            "<class 'sqlalchemy.sql.dml.Insert'> INSERT INTO clientes (nombre, email) VALUES (:nombre_m0, :email_m0), (:nombre_m1, :email_m1), (:nombre_m2, :email_m2)\n"
          ]
        }
      ]
    },
    {
      "cell_type": "code",
      "source": [
        "with engine.connect() as connection:\n",
        "  result = connection.execute(stmt)"
      ],
      "metadata": {
        "id": "li-dgWeaor4I"
      },
      "execution_count": 9,
      "outputs": []
    },
    {
      "cell_type": "code",
      "source": [
        "stmt = select(clientes)\n",
        "print(type(stmt), stmt)"
      ],
      "metadata": {
        "colab": {
          "base_uri": "https://localhost:8080/"
        },
        "id": "eB4qvJvSowjj",
        "outputId": "59371023-5619-40cb-bd38-94fd695cad3f"
      },
      "execution_count": 10,
      "outputs": [
        {
          "output_type": "stream",
          "name": "stdout",
          "text": [
            "<class 'sqlalchemy.sql.selectable.Select'> SELECT clientes.id_cliente, clientes.nombre, clientes.email \n",
            "FROM clientes\n"
          ]
        }
      ]
    },
    {
      "cell_type": "code",
      "source": [
        "with engine.connect() as connection:\n",
        "  result = connection.execute(stmt)\n",
        "  for row in result.fetchall():\n",
        "    print(row)"
      ],
      "metadata": {
        "colab": {
          "base_uri": "https://localhost:8080/"
        },
        "id": "tsWY0Rvso_4F",
        "outputId": "0c8394c5-5308-41f9-dacb-bae9bfbfe873"
      },
      "execution_count": 11,
      "outputs": [
        {
          "output_type": "stream",
          "name": "stdout",
          "text": [
            "(1, 'Cliente 1', 'cliente1@email.com')\n",
            "(2, 'Cliente 2', 'cliente2@email.com')\n",
            "(3, 'Cliente 3', 'cliente3@email.com')\n",
            "(4, 'Cliente 4', 'cliente4@email.com')\n"
          ]
        }
      ]
    }
  ]
}