{
  "nbformat": 4,
  "nbformat_minor": 0,
  "metadata": {
    "colab": {
      "name": "SQLAlchemy.ipynb",
      "provenance": [],
      "authorship_tag": "ABX9TyMVu+oeP805+YyzbtuA9AGm",
      "include_colab_link": true
    },
    "kernelspec": {
      "name": "python3",
      "display_name": "Python 3"
    },
    "language_info": {
      "name": "python"
    }
  },
  "cells": [
    {
      "cell_type": "markdown",
      "metadata": {
        "id": "view-in-github",
        "colab_type": "text"
      },
      "source": [
        "<a href=\"https://colab.research.google.com/github/luisescobar09/API-REST/blob/main/SQLAlchemy.ipynb\" target=\"_parent\"><img src=\"https://colab.research.google.com/assets/colab-badge.svg\" alt=\"Open In Colab\"/></a>"
      ]
    },
    {
      "cell_type": "markdown",
      "source": [
        "**SQL Alchemy** *probando ORM con Python*"
      ],
      "metadata": {
        "id": "zjpHU60Zu3V7"
      }
    },
    {
      "cell_type": "markdown",
      "source": [
        "*Importación de librerías:*"
      ],
      "metadata": {
        "id": "0LjmY0tAvULy"
      }
    },
    {
      "cell_type": "code",
      "execution_count": 1,
      "metadata": {
        "id": "YWB1oOXAkTzL"
      },
      "outputs": [],
      "source": [
        "from sqlalchemy import create_engine, MetaData, Table, Column, Integer, String, insert, select, update, delete"
      ]
    },
    {
      "cell_type": "markdown",
      "source": [
        "*Conexión con la base de datos:*"
      ],
      "metadata": {
        "id": "X-JjcbLbvcYH"
      }
    },
    {
      "cell_type": "code",
      "source": [
        "engine = create_engine('sqlite:///prueba.sqlite')"
      ],
      "metadata": {
        "id": "Mk2B47yalPeD"
      },
      "execution_count": 2,
      "outputs": []
    },
    {
      "cell_type": "markdown",
      "source": [
        "*Modelo de datos:*"
      ],
      "metadata": {
        "id": "FrnIkYZdvoJD"
      }
    },
    {
      "cell_type": "code",
      "source": [
        "metadata = MetaData()"
      ],
      "metadata": {
        "id": "x6P26j_ElXGC"
      },
      "execution_count": 3,
      "outputs": []
    },
    {
      "cell_type": "markdown",
      "source": [
        "*Configuración del modelo (tabla y campos):*"
      ],
      "metadata": {
        "id": "s65xqLaRwUhv"
      }
    },
    {
      "cell_type": "code",
      "source": [
        "clientes = Table(\n",
        "  'clientes', metadata,\n",
        "  Column( 'id_cliente', Integer, primary_key = True),\n",
        "  Column( 'nombre', String, nullable = False ),\n",
        "  Column( 'email', String, nullable = False )\n",
        ")"
      ],
      "metadata": {
        "id": "M9-L8aGMlc1g"
      },
      "execution_count": 4,
      "outputs": []
    },
    {
      "cell_type": "markdown",
      "source": [
        "*Creación del modelo configurado anterior:*"
      ],
      "metadata": {
        "id": "gm2ZKcV0wo7m"
      }
    },
    {
      "cell_type": "code",
      "source": [
        "metadata.create_all(engine)"
      ],
      "metadata": {
        "id": "HYNTQbDTnVHq"
      },
      "execution_count": 5,
      "outputs": []
    },
    {
      "cell_type": "markdown",
      "source": [
        "*Inserción de un registro:*"
      ],
      "metadata": {
        "id": "NLlEPamywtiv"
      }
    },
    {
      "cell_type": "code",
      "source": [
        "stmt = insert(clientes).values(nombre=\"Cliente 1\", email=\"cliente1@email.com\")\n",
        "print(type(stmt), stmt)"
      ],
      "metadata": {
        "colab": {
          "base_uri": "https://localhost:8080/"
        },
        "id": "-hlBGr6TnjtZ",
        "outputId": "ebfed394-7fbb-46cf-9559-99346b53861f"
      },
      "execution_count": 6,
      "outputs": [
        {
          "output_type": "stream",
          "name": "stdout",
          "text": [
            "<class 'sqlalchemy.sql.dml.Insert'> INSERT INTO clientes (nombre, email) VALUES (:nombre, :email)\n"
          ]
        }
      ]
    },
    {
      "cell_type": "code",
      "source": [
        "with engine.connect() as connection:\n",
        "  result = connection.execute(stmt)"
      ],
      "metadata": {
        "id": "wzf6x87un60j"
      },
      "execution_count": 7,
      "outputs": []
    },
    {
      "cell_type": "markdown",
      "source": [
        "*Insrción de más de un registro:*"
      ],
      "metadata": {
        "id": "0eiyzGccwxKL"
      }
    },
    {
      "cell_type": "code",
      "source": [
        "data = [\n",
        "    { \"nombre\" : \"Cliente 2\", \"email\" : \"cliente2@email.com\" },\n",
        "    { \"nombre\" : \"Cliente 3\", \"email\" : \"cliente3@email.com\" },\n",
        "    { \"nombre\" : \"Cliente 4\", \"email\" : \"cliente4@email.com\" }\n",
        "]\n",
        "stmt = insert(clientes).values(data)\n",
        "print(type(stmt), stmt)"
      ],
      "metadata": {
        "colab": {
          "base_uri": "https://localhost:8080/"
        },
        "id": "Jlx6w7hUoMX1",
        "outputId": "aaffa020-4421-4ae3-89b7-aab09d2addd3"
      },
      "execution_count": 8,
      "outputs": [
        {
          "output_type": "stream",
          "name": "stdout",
          "text": [
            "<class 'sqlalchemy.sql.dml.Insert'> INSERT INTO clientes (nombre, email) VALUES (:nombre_m0, :email_m0), (:nombre_m1, :email_m1), (:nombre_m2, :email_m2)\n"
          ]
        }
      ]
    },
    {
      "cell_type": "code",
      "source": [
        "with engine.connect() as connection:\n",
        "  result = connection.execute(stmt)"
      ],
      "metadata": {
        "id": "li-dgWeaor4I"
      },
      "execution_count": 9,
      "outputs": []
    },
    {
      "cell_type": "markdown",
      "source": [
        "*Consulta simple (toda la tabla):*"
      ],
      "metadata": {
        "id": "IcTZGtGJw6ss"
      }
    },
    {
      "cell_type": "code",
      "source": [
        "stmt = select(clientes)\n",
        "print(type(stmt), stmt)"
      ],
      "metadata": {
        "colab": {
          "base_uri": "https://localhost:8080/"
        },
        "id": "eB4qvJvSowjj",
        "outputId": "ca55363a-4ff1-45e8-e488-97a7b677241d"
      },
      "execution_count": 10,
      "outputs": [
        {
          "output_type": "stream",
          "name": "stdout",
          "text": [
            "<class 'sqlalchemy.sql.selectable.Select'> SELECT clientes.id_cliente, clientes.nombre, clientes.email \n",
            "FROM clientes\n"
          ]
        }
      ]
    },
    {
      "cell_type": "code",
      "source": [
        "with engine.connect() as connection:\n",
        "  result = connection.execute(stmt)\n",
        "  for row in result.fetchall():\n",
        "    print(row)"
      ],
      "metadata": {
        "colab": {
          "base_uri": "https://localhost:8080/"
        },
        "id": "tsWY0Rvso_4F",
        "outputId": "43fe48b9-e8b6-4620-9c73-56d3366df6c2"
      },
      "execution_count": 11,
      "outputs": [
        {
          "output_type": "stream",
          "name": "stdout",
          "text": [
            "(1, 'Cliente 1', 'cliente1@email.com')\n",
            "(2, 'Cliente 2', 'cliente2@email.com')\n",
            "(3, 'Cliente 3', 'cliente3@email.com')\n",
            "(4, 'Cliente 4', 'cliente4@email.com')\n"
          ]
        }
      ]
    },
    {
      "cell_type": "markdown",
      "source": [
        "*Consulta de un registro en particular:*"
      ],
      "metadata": {
        "id": "REoooRxuxIaG"
      }
    },
    {
      "cell_type": "code",
      "source": [
        "stmt = select(clientes).where(clientes.c.id_cliente == 1)"
      ],
      "metadata": {
        "id": "2qfjtRI0okLL"
      },
      "execution_count": 12,
      "outputs": []
    },
    {
      "cell_type": "code",
      "source": [
        "with engine.connect() as connection:\n",
        "  result = connection.execute(stmt)\n",
        "  for row in result.fetchall():\n",
        "    print(row)"
      ],
      "metadata": {
        "colab": {
          "base_uri": "https://localhost:8080/"
        },
        "id": "jBZ_UA-wo2Xm",
        "outputId": "68571331-73d7-4c16-eacc-dbd8217a83ba"
      },
      "execution_count": 18,
      "outputs": [
        {
          "output_type": "stream",
          "name": "stdout",
          "text": [
            "(1, 'Cliente 1', 'cliente1@email.com')\n"
          ]
        }
      ]
    },
    {
      "cell_type": "markdown",
      "source": [
        "*Consulta de aquellos nombres que contengan un 2:*"
      ],
      "metadata": {
        "id": "pCB92SMBxO6Z"
      }
    },
    {
      "cell_type": "code",
      "source": [
        "stmt = select(clientes).where(clientes.c.nombre.like(\"%2\"))\n",
        "with engine.connect() as connection:\n",
        "  result = connection.execute(stmt)\n",
        "  for row in result.fetchall():\n",
        "    print(row)"
      ],
      "metadata": {
        "colab": {
          "base_uri": "https://localhost:8080/"
        },
        "id": "uIoIZAdmp7YL",
        "outputId": "1fa8582a-be44-4138-c355-19869f579013"
      },
      "execution_count": 21,
      "outputs": [
        {
          "output_type": "stream",
          "name": "stdout",
          "text": [
            "(2, 'Cliente 2', 'cliente2@email.com')\n"
          ]
        }
      ]
    },
    {
      "cell_type": "markdown",
      "source": [
        "*Actualización de un campo de un registro en específico:*"
      ],
      "metadata": {
        "id": "NxY2WOkjxqvP"
      }
    },
    {
      "cell_type": "code",
      "source": [
        "stmt = update(clientes).where(clientes.c.id_cliente == 1).values(nombre = \"Cliente actualizado\")\n",
        "with engine.connect() as connection:\n",
        "  result = connection.execute(stmt)\n",
        "stmt = select(clientes).where(clientes.c.id_cliente == 1)\n",
        "with engine.connect() as connection:\n",
        "  result = connection.execute(stmt)\n",
        "  for row in result.fetchall():\n",
        "    print(row)"
      ],
      "metadata": {
        "colab": {
          "base_uri": "https://localhost:8080/"
        },
        "id": "6q8P-lPexvuq",
        "outputId": "23d3d762-7fdc-4767-ca14-5d5177a65e01"
      },
      "execution_count": 22,
      "outputs": [
        {
          "output_type": "stream",
          "name": "stdout",
          "text": [
            "(1, 'Cliente actualizado', 'cliente1@email.com')\n"
          ]
        }
      ]
    },
    {
      "cell_type": "markdown",
      "source": [
        "*Eliminación de un registro:*"
      ],
      "metadata": {
        "id": "OjJyf9oEyUXv"
      }
    },
    {
      "cell_type": "code",
      "source": [
        "stmt = delete(clientes).where(clientes.c.id_cliente == 3)\n",
        "with engine.connect() as connection:\n",
        "  result = connection.execute(stmt)\n",
        "stmt = select(clientes)\n",
        "with engine.connect() as connection:\n",
        "  result = connection.execute(stmt)\n",
        "  for row in result.fetchall():\n",
        "    print(row)"
      ],
      "metadata": {
        "colab": {
          "base_uri": "https://localhost:8080/"
        },
        "id": "8aIy7oDoyYpf",
        "outputId": "95809cc7-2a3b-4522-d1a1-311220b966ad"
      },
      "execution_count": 23,
      "outputs": [
        {
          "output_type": "stream",
          "name": "stdout",
          "text": [
            "(1, 'Cliente actualizado', 'cliente1@email.com')\n",
            "(2, 'Cliente 2', 'cliente2@email.com')\n",
            "(4, 'Cliente 4', 'cliente4@email.com')\n"
          ]
        }
      ]
    }
  ]
}